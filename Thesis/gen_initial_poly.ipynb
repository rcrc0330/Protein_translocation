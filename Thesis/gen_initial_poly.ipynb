{
 "cells": [
  {
   "cell_type": "code",
   "execution_count": 10,
   "id": "0cba772f",
   "metadata": {},
   "outputs": [],
   "source": [
    "import mdtraj as md\n",
    "import numpy as np"
   ]
  },
  {
   "cell_type": "code",
   "execution_count": 11,
   "id": "f57534fe",
   "metadata": {},
   "outputs": [],
   "source": [
    "f = md.load_lammpstrj(\"lamp2/output.lammpstrj\",top = \"lamp2/hola.pdb\")"
   ]
  },
  {
   "cell_type": "code",
   "execution_count": 12,
   "id": "e39df1f3",
   "metadata": {},
   "outputs": [
    {
     "data": {
      "text/plain": [
       "(1601, 5701, 3)"
      ]
     },
     "execution_count": 12,
     "metadata": {},
     "output_type": "execute_result"
    }
   ],
   "source": [
    "f.xyz.shape"
   ]
  },
  {
   "cell_type": "code",
   "execution_count": 13,
   "id": "8eb760c2",
   "metadata": {},
   "outputs": [],
   "source": [
    "for i in range(1601):\n",
    "    f.xyz[i] = f.xyz[i] * 10"
   ]
  },
  {
   "cell_type": "code",
   "execution_count": 14,
   "id": "a99a9efe",
   "metadata": {},
   "outputs": [
    {
     "data": {
      "text/plain": [
       "array([-21., -21.,  10.], dtype=float32)"
      ]
     },
     "execution_count": 14,
     "metadata": {},
     "output_type": "execute_result"
    }
   ],
   "source": [
    "f.xyz[68][858]"
   ]
  },
  {
   "cell_type": "code",
   "execution_count": 15,
   "id": "1323fab2",
   "metadata": {},
   "outputs": [],
   "source": [
    "import pandas as pd\n",
    "path = \"lamp2/initial/\""
   ]
  },
  {
   "cell_type": "code",
   "execution_count": 16,
   "id": "d8b714a4",
   "metadata": {},
   "outputs": [
    {
     "name": "stdout",
     "output_type": "stream",
     "text": [
      "ooga\n",
      "602\n"
     ]
    }
   ],
   "source": [
    "count = 0\n",
    "for i in range(1600,400,-2):\n",
    "    count = count + 1\n",
    "    df = pd.DataFrame(f.xyz[i])\n",
    "    df.to_csv(path + 'traj' + str(count) + '.csv')\n",
    "    if(count == 500):\n",
    "        print(\"ooga\")\n",
    "        print(i)\n",
    "        break\n",
    "        "
   ]
  },
  {
   "cell_type": "code",
   "execution_count": 14,
   "id": "f084d9e3",
   "metadata": {},
   "outputs": [
    {
     "data": {
      "text/plain": [
       "array([  5.4442  , -14.759999, -18.9468  ], dtype=float32)"
      ]
     },
     "execution_count": 14,
     "metadata": {},
     "output_type": "execute_result"
    }
   ],
   "source": [
    "f.xyz[1600][957]"
   ]
  },
  {
   "cell_type": "code",
   "execution_count": 86,
   "id": "e0f9d267",
   "metadata": {},
   "outputs": [
    {
     "data": {
      "text/plain": [
       "500"
      ]
     },
     "execution_count": 86,
     "metadata": {},
     "output_type": "execute_result"
    }
   ],
   "source": []
  },
  {
   "cell_type": "code",
   "execution_count": 52,
   "id": "624a1b2d",
   "metadata": {},
   "outputs": [
    {
     "ename": "TypeError",
     "evalue": "write() argument must be str, not Trajectory",
     "output_type": "error",
     "traceback": [
      "\u001b[1;31m---------------------------------------------------------------------------\u001b[0m",
      "\u001b[1;31mTypeError\u001b[0m                                 Traceback (most recent call last)",
      "\u001b[1;32m<ipython-input-52-9bdc09eb850c>\u001b[0m in \u001b[0;36m<module>\u001b[1;34m\u001b[0m\n\u001b[1;32m----> 1\u001b[1;33m \u001b[0mfile\u001b[0m\u001b[1;33m.\u001b[0m\u001b[0mwrite\u001b[0m\u001b[1;33m(\u001b[0m\u001b[0mf\u001b[0m\u001b[1;33m)\u001b[0m\u001b[1;33m\u001b[0m\u001b[1;33m\u001b[0m\u001b[0m\n\u001b[0m",
      "\u001b[1;31mTypeError\u001b[0m: write() argument must be str, not Trajectory"
     ]
    }
   ],
   "source": []
  },
  {
   "cell_type": "code",
   "execution_count": null,
   "id": "185808c5",
   "metadata": {},
   "outputs": [],
   "source": []
  }
 ],
 "metadata": {
  "kernelspec": {
   "display_name": "Python 3",
   "language": "python",
   "name": "python3"
  },
  "language_info": {
   "codemirror_mode": {
    "name": "ipython",
    "version": 3
   },
   "file_extension": ".py",
   "mimetype": "text/x-python",
   "name": "python",
   "nbconvert_exporter": "python",
   "pygments_lexer": "ipython3",
   "version": "3.8.8"
  }
 },
 "nbformat": 4,
 "nbformat_minor": 5
}
