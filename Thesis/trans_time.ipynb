{
 "cells": [
  {
   "cell_type": "code",
   "execution_count": 5,
   "id": "1c010e69",
   "metadata": {},
   "outputs": [],
   "source": [
    "import mdtraj as md"
   ]
  },
  {
   "cell_type": "code",
   "execution_count": 6,
   "id": "fef78f37",
   "metadata": {},
   "outputs": [],
   "source": [
    "ent = -10/10\n",
    "exit = 10/10\n",
    "nchain = 100"
   ]
  },
  {
   "cell_type": "code",
   "execution_count": 7,
   "id": "9a68891b",
   "metadata": {},
   "outputs": [],
   "source": [
    "f = md.load_lammpstrj(\"lamp2/output.lammpstrj\",top = \"hola.pdb\")"
   ]
  },
  {
   "cell_type": "code",
   "execution_count": 8,
   "id": "72606140",
   "metadata": {},
   "outputs": [
    {
     "data": {
      "text/plain": [
       "11.7441"
      ]
     },
     "execution_count": 8,
     "metadata": {},
     "output_type": "execute_result"
    }
   ],
   "source": [
    "f.xyz[8000][1099][2]"
   ]
  },
  {
   "cell_type": "code",
   "execution_count": 9,
   "id": "0629007a",
   "metadata": {},
   "outputs": [],
   "source": [
    "hi = f.n_frames-1\n",
    "lo = 0\n",
    "inn = -1\n",
    "while(lo<hi):\n",
    "    mid = int((lo+hi)/2)\n",
    "    pos = f.xyz[int(mid)][f.n_atoms-1][2]\n",
    "    for i in range(f.n_atoms-nchain,f.n_atoms):\n",
    "        pos = max(pos,f.xyz[int(mid)][i][2])\n",
    "    if(pos>ent):\n",
    "        hi = mid\n",
    "    else:\n",
    "        lo = mid+1\n",
    "if(lo==f.n_frames):\n",
    "    print(\"NA\")\n",
    "else:\n",
    "    inn = hi"
   ]
  },
  {
   "cell_type": "code",
   "execution_count": 11,
   "id": "43a20f17",
   "metadata": {},
   "outputs": [],
   "source": [
    "hi = f.n_frames-1\n",
    "lo = 0\n",
    "out = -1\n",
    "while(lo<hi):\n",
    "    mid = int((lo+hi)/2)\n",
    "    pos = f.xyz[int(mid)][f.n_atoms-1][2]\n",
    "    for i in range(f.n_atoms-nchain,f.n_atoms):\n",
    "        pos = min(pos,f.xyz[int(mid)][i][2])\n",
    "    if(pos>exit):\n",
    "        hi = mid\n",
    "    else:\n",
    "        lo = mid+1\n",
    "if(lo==f.n_frames):\n",
    "    print(\"The polymer didn't enter\")\n",
    "else:\n",
    "    out = hi"
   ]
  },
  {
   "cell_type": "code",
   "execution_count": 10,
   "id": "f97cc8b6",
   "metadata": {},
   "outputs": [
    {
     "data": {
      "text/plain": [
       "2939"
      ]
     },
     "execution_count": 10,
     "metadata": {},
     "output_type": "execute_result"
    }
   ],
   "source": [
    "inn"
   ]
  },
  {
   "cell_type": "code",
   "execution_count": 12,
   "id": "5711836d",
   "metadata": {},
   "outputs": [
    {
     "data": {
      "text/plain": [
       "3469"
      ]
     },
     "execution_count": 12,
     "metadata": {},
     "output_type": "execute_result"
    }
   ],
   "source": [
    "out"
   ]
  },
  {
   "cell_type": "code",
   "execution_count": 13,
   "id": "255fa186",
   "metadata": {},
   "outputs": [],
   "source": [
    "time = (out-inn)*50*0.005"
   ]
  },
  {
   "cell_type": "code",
   "execution_count": 14,
   "id": "7be6dc68",
   "metadata": {},
   "outputs": [
    {
     "data": {
      "text/plain": [
       "132.5"
      ]
     },
     "execution_count": 14,
     "metadata": {},
     "output_type": "execute_result"
    }
   ],
   "source": [
    "time"
   ]
  },
  {
   "cell_type": "code",
   "execution_count": 15,
   "id": "f411d5e8",
   "metadata": {},
   "outputs": [
    {
     "data": {
      "text/plain": [
       "2.8779e-10"
      ]
     },
     "execution_count": 15,
     "metadata": {},
     "output_type": "execute_result"
    }
   ],
   "source": [
    "2.172*(10**(-12))*time"
   ]
  },
  {
   "cell_type": "code",
   "execution_count": null,
   "id": "7b54bf42",
   "metadata": {},
   "outputs": [],
   "source": []
  }
 ],
 "metadata": {
  "kernelspec": {
   "display_name": "Python 3",
   "language": "python",
   "name": "python3"
  },
  "language_info": {
   "codemirror_mode": {
    "name": "ipython",
    "version": 3
   },
   "file_extension": ".py",
   "mimetype": "text/x-python",
   "name": "python",
   "nbconvert_exporter": "python",
   "pygments_lexer": "ipython3",
   "version": "3.8.8"
  }
 },
 "nbformat": 4,
 "nbformat_minor": 5
}
