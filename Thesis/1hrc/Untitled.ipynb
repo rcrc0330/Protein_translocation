{
 "cells": [
  {
   "cell_type": "code",
   "execution_count": 1,
   "id": "83499a68",
   "metadata": {},
   "outputs": [
    {
     "name": "stdout",
     "output_type": "stream",
     "text": [
      "173.575594260868\n",
      "337.0205430866468\n"
     ]
    }
   ],
   "source": [
    "import pandas as pd\n",
    "import numpy as np\n",
    "import datetime\n",
    "df_A = pd.read_csv(\"4708263_FGA0ZWBR.csv\")\n",
    "df_B = pd.read_csv(\"4708263_QB3Z8L4T.csv\")\n",
    "\n",
    "ans = 0.0\n",
    "for i in range(1,df_A.shape[0]):\n",
    "    if(df_A.iloc[i][1]-df_A.iloc[i-1][1]>4):\n",
    "        date,time = df_A.iloc[i][0].split()\n",
    "        #print(date)\n",
    "        #print(time)\n",
    "        if(len(time)>15):\n",
    "            time = time[:15]\n",
    "        fulldate = datetime.datetime.strptime(date + ' ' + time, \"%Y-%m-%d %H:%M:%S.%f\")\n",
    "        fulldate = fulldate + datetime.timedelta(milliseconds=40)\n",
    "        #print(fulldate)\n",
    "        start = 0\n",
    "        end = df_B.shape[0]\n",
    "        while(start < end):\n",
    "            mid = int((start+end)/2)\n",
    "            date_B,time_B = df_B.iloc[mid][0].split()\n",
    "            if(len(time_B)>15):\n",
    "                time_B = time_B[:15]\n",
    "            fulldate_B = datetime.datetime.strptime(date_B + ' ' + time_B, \"%Y-%m-%d %H:%M:%S.%f\")\n",
    "            if(fulldate_B>=fulldate):\n",
    "                end = mid\n",
    "            if(fulldate_B<fulldate):\n",
    "                start = mid+1\n",
    "        if(start == 0):\n",
    "            continue\n",
    "        #print(df_B.iloc[start][1])\n",
    "        ans =  ans + (df_B.iloc[start][1]-df_B.iloc[start-1][1])\n",
    "print(ans)\n",
    "        #break\n",
    "    \n",
    "for i in range(1,df_A.shape[0]):\n",
    "    if(df_A.iloc[i-1][1]-df_A.iloc[i][1]>4):\n",
    "        date,time = df_A.iloc[i][0].split()\n",
    "        #print(date)\n",
    "        #print(time)\n",
    "        if(len(time)>15):\n",
    "            time = time[:15]\n",
    "        fulldate = datetime.datetime.strptime(date + ' ' + time, \"%Y-%m-%d %H:%M:%S.%f\")\n",
    "        fulldate = fulldate + datetime.timedelta(milliseconds=40)\n",
    "        #print(fulldate)\n",
    "        start = 0\n",
    "        end = df_B.shape[0]\n",
    "        while(start < end):\n",
    "            mid = int((start+end)/2)\n",
    "            date_B,time_B = df_B.iloc[mid][0].split()\n",
    "            if(len(time_B)>15):\n",
    "                time_B = time_B[:15]\n",
    "            fulldate_B = datetime.datetime.strptime(date_B + ' ' + time_B, \"%Y-%m-%d %H:%M:%S.%f\")\n",
    "            if(fulldate_B>=fulldate):\n",
    "                end = mid\n",
    "            if(fulldate_B<fulldate):\n",
    "                start = mid+1\n",
    "        if(start == 0):\n",
    "            continue\n",
    "        #print(df_B.iloc[start][1])\n",
    "        ans =  ans + (df_B.iloc[start-1][1]-df_B.iloc[start][1])\n",
    "print(ans)   \n",
    "    "
   ]
  },
  {
   "cell_type": "code",
   "execution_count": 2,
   "id": "ed2ebfc1",
   "metadata": {},
   "outputs": [],
   "source": []
  },
  {
   "cell_type": "code",
   "execution_count": 32,
   "id": "ee59c496",
   "metadata": {},
   "outputs": [
    {
     "name": "stdout",
     "output_type": "stream",
     "text": [
      "173.575594260868\n"
     ]
    }
   ],
   "source": []
  },
  {
   "cell_type": "code",
   "execution_count": 33,
   "id": "23fbc6f4",
   "metadata": {},
   "outputs": [
    {
     "name": "stdout",
     "output_type": "stream",
     "text": [
      "337.0205430866468\n"
     ]
    }
   ],
   "source": []
  },
  {
   "cell_type": "code",
   "execution_count": null,
   "id": "b1d7b02a",
   "metadata": {},
   "outputs": [],
   "source": []
  }
 ],
 "metadata": {
  "kernelspec": {
   "display_name": "Python 3",
   "language": "python",
   "name": "python3"
  },
  "language_info": {
   "codemirror_mode": {
    "name": "ipython",
    "version": 3
   },
   "file_extension": ".py",
   "mimetype": "text/x-python",
   "name": "python",
   "nbconvert_exporter": "python",
   "pygments_lexer": "ipython3",
   "version": "3.8.8"
  }
 },
 "nbformat": 4,
 "nbformat_minor": 5
}
