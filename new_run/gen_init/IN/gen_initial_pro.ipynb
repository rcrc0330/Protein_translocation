{
 "cells": [
  {
   "cell_type": "code",
   "execution_count": 1,
   "id": "0cba772f",
   "metadata": {},
   "outputs": [],
   "source": [
    "import mdtraj as md\n",
    "import numpy as np"
   ]
  },
  {
   "cell_type": "code",
   "execution_count": 2,
   "id": "f57534fe",
   "metadata": {},
   "outputs": [],
   "source": [
    "f = md.load_lammpstrj(\"output.lammpstrj\",top = \"first.pdb\")"
   ]
  },
  {
   "cell_type": "code",
   "execution_count": 3,
   "id": "e39df1f3",
   "metadata": {},
   "outputs": [
    {
     "data": {
      "text/plain": [
       "(1600, 4227, 3)"
      ]
     },
     "execution_count": 3,
     "metadata": {},
     "output_type": "execute_result"
    }
   ],
   "source": [
    "f.xyz.shape"
   ]
  },
  {
   "cell_type": "code",
   "execution_count": 4,
   "id": "8eb760c2",
   "metadata": {},
   "outputs": [],
   "source": [
    "for i in range(f.xyz.shape[0]):\n",
    "    f.xyz[i] = f.xyz[i] * 10"
   ]
  },
  {
   "cell_type": "code",
   "execution_count": 5,
   "id": "a99a9efe",
   "metadata": {},
   "outputs": [
    {
     "data": {
      "text/plain": [
       "array([  9.190701,  12.4609  , -61.7426  ], dtype=float32)"
      ]
     },
     "execution_count": 5,
     "metadata": {},
     "output_type": "execute_result"
    }
   ],
   "source": [
    "f.xyz[68][235]"
   ]
  },
  {
   "cell_type": "code",
   "execution_count": 6,
   "id": "1323fab2",
   "metadata": {},
   "outputs": [],
   "source": [
    "import pandas as pd\n",
    "path = \"init_csv_fin/\""
   ]
  },
  {
   "cell_type": "code",
   "execution_count": 7,
   "id": "d8b714a4",
   "metadata": {},
   "outputs": [
    {
     "name": "stdout",
     "output_type": "stream",
     "text": [
      "ooga\n",
      "609\n"
     ]
    }
   ],
   "source": [
    "count = 0\n",
    "for i in range(f.xyz.shape[0]-1,0,-10):\n",
    "    count = count + 1\n",
    "    df = pd.DataFrame(f.xyz[i][0:250])\n",
    "    df.to_csv(path + 'file' + str(count) +'.csv')\n",
    "    if(count == 100):\n",
    "        print(\"ooga\")\n",
    "        print(i)\n",
    "        break\n",
    "        "
   ]
  },
  {
   "cell_type": "code",
   "execution_count": 8,
   "id": "f084d9e3",
   "metadata": {},
   "outputs": [
    {
     "data": {
      "text/html": [
       "<div>\n",
       "<style scoped>\n",
       "    .dataframe tbody tr th:only-of-type {\n",
       "        vertical-align: middle;\n",
       "    }\n",
       "\n",
       "    .dataframe tbody tr th {\n",
       "        vertical-align: top;\n",
       "    }\n",
       "\n",
       "    .dataframe thead th {\n",
       "        text-align: right;\n",
       "    }\n",
       "</style>\n",
       "<table border=\"1\" class=\"dataframe\">\n",
       "  <thead>\n",
       "    <tr style=\"text-align: right;\">\n",
       "      <th></th>\n",
       "      <th>0</th>\n",
       "      <th>1</th>\n",
       "      <th>2</th>\n",
       "    </tr>\n",
       "  </thead>\n",
       "  <tbody>\n",
       "    <tr>\n",
       "      <th>0</th>\n",
       "      <td>-4.652250e-07</td>\n",
       "      <td>3.543740e-08</td>\n",
       "      <td>-49.000000</td>\n",
       "    </tr>\n",
       "    <tr>\n",
       "      <th>1</th>\n",
       "      <td>1.977250e+00</td>\n",
       "      <td>2.567150e+00</td>\n",
       "      <td>-51.459198</td>\n",
       "    </tr>\n",
       "    <tr>\n",
       "      <th>2</th>\n",
       "      <td>5.080220e+00</td>\n",
       "      <td>3.389900e+00</td>\n",
       "      <td>-50.872501</td>\n",
       "    </tr>\n",
       "    <tr>\n",
       "      <th>3</th>\n",
       "      <td>1.711060e+00</td>\n",
       "      <td>3.063320e+00</td>\n",
       "      <td>-54.969704</td>\n",
       "    </tr>\n",
       "    <tr>\n",
       "      <th>4</th>\n",
       "      <td>3.894520e+00</td>\n",
       "      <td>3.655590e+00</td>\n",
       "      <td>-56.225399</td>\n",
       "    </tr>\n",
       "    <tr>\n",
       "      <th>...</th>\n",
       "      <td>...</td>\n",
       "      <td>...</td>\n",
       "      <td>...</td>\n",
       "    </tr>\n",
       "    <tr>\n",
       "      <th>245</th>\n",
       "      <td>1.500000e+01</td>\n",
       "      <td>0.000000e+00</td>\n",
       "      <td>-46.000000</td>\n",
       "    </tr>\n",
       "    <tr>\n",
       "      <th>246</th>\n",
       "      <td>1.500000e+01</td>\n",
       "      <td>0.000000e+00</td>\n",
       "      <td>-44.000000</td>\n",
       "    </tr>\n",
       "    <tr>\n",
       "      <th>247</th>\n",
       "      <td>1.500000e+01</td>\n",
       "      <td>0.000000e+00</td>\n",
       "      <td>-42.000000</td>\n",
       "    </tr>\n",
       "    <tr>\n",
       "      <th>248</th>\n",
       "      <td>1.500000e+01</td>\n",
       "      <td>0.000000e+00</td>\n",
       "      <td>-40.000000</td>\n",
       "    </tr>\n",
       "    <tr>\n",
       "      <th>249</th>\n",
       "      <td>1.500000e+01</td>\n",
       "      <td>0.000000e+00</td>\n",
       "      <td>-38.000000</td>\n",
       "    </tr>\n",
       "  </tbody>\n",
       "</table>\n",
       "<p>250 rows × 3 columns</p>\n",
       "</div>"
      ],
      "text/plain": [
       "                0             1          2\n",
       "0   -4.652250e-07  3.543740e-08 -49.000000\n",
       "1    1.977250e+00  2.567150e+00 -51.459198\n",
       "2    5.080220e+00  3.389900e+00 -50.872501\n",
       "3    1.711060e+00  3.063320e+00 -54.969704\n",
       "4    3.894520e+00  3.655590e+00 -56.225399\n",
       "..            ...           ...        ...\n",
       "245  1.500000e+01  0.000000e+00 -46.000000\n",
       "246  1.500000e+01  0.000000e+00 -44.000000\n",
       "247  1.500000e+01  0.000000e+00 -42.000000\n",
       "248  1.500000e+01  0.000000e+00 -40.000000\n",
       "249  1.500000e+01  0.000000e+00 -38.000000\n",
       "\n",
       "[250 rows x 3 columns]"
      ]
     },
     "execution_count": 8,
     "metadata": {},
     "output_type": "execute_result"
    }
   ],
   "source": [
    "df"
   ]
  },
  {
   "cell_type": "code",
   "execution_count": null,
   "id": "e0f9d267",
   "metadata": {},
   "outputs": [],
   "source": []
  },
  {
   "cell_type": "code",
   "execution_count": 52,
   "id": "624a1b2d",
   "metadata": {},
   "outputs": [
    {
     "ename": "TypeError",
     "evalue": "write() argument must be str, not Trajectory",
     "output_type": "error",
     "traceback": [
      "\u001b[1;31m---------------------------------------------------------------------------\u001b[0m",
      "\u001b[1;31mTypeError\u001b[0m                                 Traceback (most recent call last)",
      "\u001b[1;32m<ipython-input-52-9bdc09eb850c>\u001b[0m in \u001b[0;36m<module>\u001b[1;34m\u001b[0m\n\u001b[1;32m----> 1\u001b[1;33m \u001b[0mfile\u001b[0m\u001b[1;33m.\u001b[0m\u001b[0mwrite\u001b[0m\u001b[1;33m(\u001b[0m\u001b[0mf\u001b[0m\u001b[1;33m)\u001b[0m\u001b[1;33m\u001b[0m\u001b[1;33m\u001b[0m\u001b[0m\n\u001b[0m",
      "\u001b[1;31mTypeError\u001b[0m: write() argument must be str, not Trajectory"
     ]
    }
   ],
   "source": []
  },
  {
   "cell_type": "code",
   "execution_count": null,
   "id": "185808c5",
   "metadata": {},
   "outputs": [],
   "source": []
  }
 ],
 "metadata": {
  "kernelspec": {
   "display_name": "Python 3",
   "language": "python",
   "name": "python3"
  },
  "language_info": {
   "codemirror_mode": {
    "name": "ipython",
    "version": 3
   },
   "file_extension": ".py",
   "mimetype": "text/x-python",
   "name": "python",
   "nbconvert_exporter": "python",
   "pygments_lexer": "ipython3",
   "version": "3.8.8"
  }
 },
 "nbformat": 4,
 "nbformat_minor": 5
}
