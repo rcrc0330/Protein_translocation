{
 "cells": [
  {
   "cell_type": "code",
   "execution_count": 1,
   "id": "0cba772f",
   "metadata": {},
   "outputs": [],
   "source": [
    "import mdtraj as md\n",
    "import numpy as np"
   ]
  },
  {
   "cell_type": "code",
   "execution_count": 13,
   "id": "f57534fe",
   "metadata": {},
   "outputs": [],
   "source": [
    "f = md.load_lammpstrj(\"output.lammpstrj\", stride = 10,top = \"first.pdb\")"
   ]
  },
  {
   "cell_type": "code",
   "execution_count": 14,
   "id": "e39df1f3",
   "metadata": {},
   "outputs": [
    {
     "data": {
      "text/plain": [
       "(161, 4145, 3)"
      ]
     },
     "execution_count": 14,
     "metadata": {},
     "output_type": "execute_result"
    }
   ],
   "source": [
    "f.xyz.shape"
   ]
  },
  {
   "cell_type": "code",
   "execution_count": 15,
   "id": "8eb760c2",
   "metadata": {},
   "outputs": [],
   "source": [
    "for i in range(f.xyz.shape[0]):\n",
    "    f.xyz[i] = f.xyz[i] * 10"
   ]
  },
  {
   "cell_type": "code",
   "execution_count": 16,
   "id": "a99a9efe",
   "metadata": {},
   "outputs": [
    {
     "data": {
      "text/plain": [
       "array([14.8667   ,  1.9955499, -4.       ], dtype=float32)"
      ]
     },
     "execution_count": 16,
     "metadata": {},
     "output_type": "execute_result"
    }
   ],
   "source": [
    "f.xyz[68][235]"
   ]
  },
  {
   "cell_type": "code",
   "execution_count": 17,
   "id": "1323fab2",
   "metadata": {},
   "outputs": [],
   "source": [
    "import pandas as pd\n",
    "path = \"init_csv_fin/\""
   ]
  },
  {
   "cell_type": "code",
   "execution_count": 18,
   "id": "d8b714a4",
   "metadata": {},
   "outputs": [
    {
     "name": "stdout",
     "output_type": "stream",
     "text": [
      "ooga\n",
      "61\n"
     ]
    }
   ],
   "source": [
    "count = 0\n",
    "for i in range(f.xyz.shape[0]-1,0,-1):\n",
    "    count = count + 1\n",
    "    df = pd.DataFrame(f.xyz[i][0:236])\n",
    "    df.to_csv(path + 'file' + str(count) +'.csv')\n",
    "    if(count == 100):\n",
    "        print(\"ooga\")\n",
    "        print(i)\n",
    "        break\n",
    "        "
   ]
  },
  {
   "cell_type": "code",
   "execution_count": 19,
   "id": "f084d9e3",
   "metadata": {},
   "outputs": [
    {
     "data": {
      "text/html": [
       "<div>\n",
       "<style scoped>\n",
       "    .dataframe tbody tr th:only-of-type {\n",
       "        vertical-align: middle;\n",
       "    }\n",
       "\n",
       "    .dataframe tbody tr th {\n",
       "        vertical-align: top;\n",
       "    }\n",
       "\n",
       "    .dataframe thead th {\n",
       "        text-align: right;\n",
       "    }\n",
       "</style>\n",
       "<table border=\"1\" class=\"dataframe\">\n",
       "  <thead>\n",
       "    <tr style=\"text-align: right;\">\n",
       "      <th></th>\n",
       "      <th>0</th>\n",
       "      <th>1</th>\n",
       "      <th>2</th>\n",
       "    </tr>\n",
       "  </thead>\n",
       "  <tbody>\n",
       "    <tr>\n",
       "      <th>0</th>\n",
       "      <td>-0.118000</td>\n",
       "      <td>-0.373000</td>\n",
       "      <td>-49.500999</td>\n",
       "    </tr>\n",
       "    <tr>\n",
       "      <th>1</th>\n",
       "      <td>1.864090</td>\n",
       "      <td>-2.854450</td>\n",
       "      <td>-52.301998</td>\n",
       "    </tr>\n",
       "    <tr>\n",
       "      <th>2</th>\n",
       "      <td>4.449090</td>\n",
       "      <td>-1.067340</td>\n",
       "      <td>-53.999298</td>\n",
       "    </tr>\n",
       "    <tr>\n",
       "      <th>3</th>\n",
       "      <td>-0.035754</td>\n",
       "      <td>-2.420580</td>\n",
       "      <td>-54.616096</td>\n",
       "    </tr>\n",
       "    <tr>\n",
       "      <th>4</th>\n",
       "      <td>0.411031</td>\n",
       "      <td>0.247322</td>\n",
       "      <td>-56.185097</td>\n",
       "    </tr>\n",
       "    <tr>\n",
       "      <th>...</th>\n",
       "      <td>...</td>\n",
       "      <td>...</td>\n",
       "      <td>...</td>\n",
       "    </tr>\n",
       "    <tr>\n",
       "      <th>231</th>\n",
       "      <td>14.866700</td>\n",
       "      <td>1.995550</td>\n",
       "      <td>-12.000000</td>\n",
       "    </tr>\n",
       "    <tr>\n",
       "      <th>232</th>\n",
       "      <td>14.866700</td>\n",
       "      <td>1.995550</td>\n",
       "      <td>-10.000000</td>\n",
       "    </tr>\n",
       "    <tr>\n",
       "      <th>233</th>\n",
       "      <td>14.866700</td>\n",
       "      <td>1.995550</td>\n",
       "      <td>-8.000000</td>\n",
       "    </tr>\n",
       "    <tr>\n",
       "      <th>234</th>\n",
       "      <td>14.866700</td>\n",
       "      <td>1.995550</td>\n",
       "      <td>-6.000000</td>\n",
       "    </tr>\n",
       "    <tr>\n",
       "      <th>235</th>\n",
       "      <td>14.866700</td>\n",
       "      <td>1.995550</td>\n",
       "      <td>-4.000000</td>\n",
       "    </tr>\n",
       "  </tbody>\n",
       "</table>\n",
       "<p>236 rows × 3 columns</p>\n",
       "</div>"
      ],
      "text/plain": [
       "             0         1          2\n",
       "0    -0.118000 -0.373000 -49.500999\n",
       "1     1.864090 -2.854450 -52.301998\n",
       "2     4.449090 -1.067340 -53.999298\n",
       "3    -0.035754 -2.420580 -54.616096\n",
       "4     0.411031  0.247322 -56.185097\n",
       "..         ...       ...        ...\n",
       "231  14.866700  1.995550 -12.000000\n",
       "232  14.866700  1.995550 -10.000000\n",
       "233  14.866700  1.995550  -8.000000\n",
       "234  14.866700  1.995550  -6.000000\n",
       "235  14.866700  1.995550  -4.000000\n",
       "\n",
       "[236 rows x 3 columns]"
      ]
     },
     "execution_count": 19,
     "metadata": {},
     "output_type": "execute_result"
    }
   ],
   "source": [
    "df"
   ]
  },
  {
   "cell_type": "code",
   "execution_count": null,
   "id": "e0f9d267",
   "metadata": {},
   "outputs": [],
   "source": []
  },
  {
   "cell_type": "code",
   "execution_count": 52,
   "id": "624a1b2d",
   "metadata": {},
   "outputs": [
    {
     "ename": "TypeError",
     "evalue": "write() argument must be str, not Trajectory",
     "output_type": "error",
     "traceback": [
      "\u001b[1;31m---------------------------------------------------------------------------\u001b[0m",
      "\u001b[1;31mTypeError\u001b[0m                                 Traceback (most recent call last)",
      "\u001b[1;32m<ipython-input-52-9bdc09eb850c>\u001b[0m in \u001b[0;36m<module>\u001b[1;34m\u001b[0m\n\u001b[1;32m----> 1\u001b[1;33m \u001b[0mfile\u001b[0m\u001b[1;33m.\u001b[0m\u001b[0mwrite\u001b[0m\u001b[1;33m(\u001b[0m\u001b[0mf\u001b[0m\u001b[1;33m)\u001b[0m\u001b[1;33m\u001b[0m\u001b[1;33m\u001b[0m\u001b[0m\n\u001b[0m",
      "\u001b[1;31mTypeError\u001b[0m: write() argument must be str, not Trajectory"
     ]
    }
   ],
   "source": []
  },
  {
   "cell_type": "code",
   "execution_count": null,
   "id": "185808c5",
   "metadata": {},
   "outputs": [],
   "source": []
  }
 ],
 "metadata": {
  "kernelspec": {
   "display_name": "Python 3",
   "language": "python",
   "name": "python3"
  },
  "language_info": {
   "codemirror_mode": {
    "name": "ipython",
    "version": 3
   },
   "file_extension": ".py",
   "mimetype": "text/x-python",
   "name": "python",
   "nbconvert_exporter": "python",
   "pygments_lexer": "ipython3",
   "version": "3.8.8"
  }
 },
 "nbformat": 4,
 "nbformat_minor": 5
}
