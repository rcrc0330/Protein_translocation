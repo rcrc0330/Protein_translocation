{
 "cells": [
  {
   "cell_type": "code",
   "execution_count": 1,
   "id": "f8df6853",
   "metadata": {},
   "outputs": [],
   "source": [
    " import numpy as np\n",
    " import mdtraj as md\n",
    " import matplotlib.pyplot as plt\n",
    " %matplotlib inline"
   ]
  },
  {
   "cell_type": "code",
   "execution_count": 5,
   "id": "a2d1e518",
   "metadata": {},
   "outputs": [],
   "source": [
    "mydir = ''\n",
    "with open('1hrc_rmsf.in', 'w') as file:\n",
    "    file.write('trajin ' + '1hrc-Pro01.nc\\n')\n",
    "    file.write('rmsd @BB first\\n')\n",
    "    file.write('atomicfluct out '+'1hrc.dat @BB byres\\n')"
   ]
  },
  {
   "cell_type": "code",
   "execution_count": 6,
   "id": "09947fd5",
   "metadata": {},
   "outputs": [],
   "source": [
    "with open('1hrc_rmsf.sh', 'w') as file:\n",
    "    file.write('module load amber/18\\n')\n",
    "    file.write('cpptraj '+'1hrc.prmtop '+'1hrc_rmsf.in > '+'1hrc_rmsf.log\\n')"
   ]
  },
  {
   "cell_type": "code",
   "execution_count": null,
   "id": "3c5aaa0b",
   "metadata": {},
   "outputs": [],
   "source": []
  }
 ],
 "metadata": {
  "kernelspec": {
   "display_name": "Python 3",
   "language": "python",
   "name": "python3"
  },
  "language_info": {
   "codemirror_mode": {
    "name": "ipython",
    "version": 3
   },
   "file_extension": ".py",
   "mimetype": "text/x-python",
   "name": "python",
   "nbconvert_exporter": "python",
   "pygments_lexer": "ipython3",
   "version": "3.8.8"
  }
 },
 "nbformat": 4,
 "nbformat_minor": 5
}
