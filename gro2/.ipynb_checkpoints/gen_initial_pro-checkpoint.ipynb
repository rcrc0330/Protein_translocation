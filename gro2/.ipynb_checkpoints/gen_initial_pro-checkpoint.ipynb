{
 "cells": [
  {
   "cell_type": "code",
   "execution_count": 1,
   "id": "0cba772f",
   "metadata": {},
   "outputs": [],
   "source": [
    "import mdtraj as md\n",
    "import numpy as np"
   ]
  },
  {
   "cell_type": "code",
   "execution_count": 2,
   "id": "f57534fe",
   "metadata": {},
   "outputs": [],
   "source": [
    "f = md.load_lammpstrj(\"different/output.lammpstrj\",top = \"different/hola_protein.pdb\")"
   ]
  },
  {
   "cell_type": "code",
   "execution_count": 11,
   "id": "e39df1f3",
   "metadata": {},
   "outputs": [
    {
     "data": {
      "text/plain": [
       "<mdtraj.Trajectory with 1 frames, 2377 atoms, 1 residues, and unitcells at 0x19dc6119c10>"
      ]
     },
     "execution_count": 11,
     "metadata": {},
     "output_type": "execute_result"
    }
   ],
   "source": []
  },
  {
   "cell_type": "code",
   "execution_count": 4,
   "id": "8eb760c2",
   "metadata": {},
   "outputs": [],
   "source": [
    "for i in range(1601):\n",
    "    f.xyz[i] = f.xyz[i] * 10"
   ]
  },
  {
   "cell_type": "code",
   "execution_count": 20,
   "id": "a99a9efe",
   "metadata": {},
   "outputs": [
    {
     "data": {
      "text/plain": [
       "array([ -5.59583,   4.2204 , -55.4221 ], dtype=float32)"
      ]
     },
     "execution_count": 20,
     "metadata": {},
     "output_type": "execute_result"
    }
   ],
   "source": [
    "f.xyz[68][235]"
   ]
  },
  {
   "cell_type": "code",
   "execution_count": 26,
   "id": "1323fab2",
   "metadata": {},
   "outputs": [],
   "source": [
    "import pandas as pd\n",
    "path = \"different/init_csv/\""
   ]
  },
  {
   "cell_type": "code",
   "execution_count": 27,
   "id": "d8b714a4",
   "metadata": {},
   "outputs": [
    {
     "name": "stdout",
     "output_type": "stream",
     "text": [
      "ooga\n",
      "602\n"
     ]
    }
   ],
   "source": [
    "count = 0\n",
    "for i in range(1600,400,-2):\n",
    "    count = count + 1\n",
    "    df = pd.DataFrame(f.xyz[i][0:236])\n",
    "    df.to_csv(path + 'file' + str(count) +'.csv')\n",
    "    if(count == 500):\n",
    "        print(\"ooga\")\n",
    "        print(i)\n",
    "        break\n",
    "        "
   ]
  },
  {
   "cell_type": "code",
   "execution_count": 24,
   "id": "f084d9e3",
   "metadata": {},
   "outputs": [
    {
     "data": {
      "text/html": [
       "<div>\n",
       "<style scoped>\n",
       "    .dataframe tbody tr th:only-of-type {\n",
       "        vertical-align: middle;\n",
       "    }\n",
       "\n",
       "    .dataframe tbody tr th {\n",
       "        vertical-align: top;\n",
       "    }\n",
       "\n",
       "    .dataframe thead th {\n",
       "        text-align: right;\n",
       "    }\n",
       "</style>\n",
       "<table border=\"1\" class=\"dataframe\">\n",
       "  <thead>\n",
       "    <tr style=\"text-align: right;\">\n",
       "      <th></th>\n",
       "      <th>0</th>\n",
       "      <th>1</th>\n",
       "      <th>2</th>\n",
       "    </tr>\n",
       "  </thead>\n",
       "  <tbody>\n",
       "    <tr>\n",
       "      <th>0</th>\n",
       "      <td>2.082230</td>\n",
       "      <td>0.567028</td>\n",
       "      <td>-48.213200</td>\n",
       "    </tr>\n",
       "    <tr>\n",
       "      <th>1</th>\n",
       "      <td>0.150574</td>\n",
       "      <td>-0.525861</td>\n",
       "      <td>-52.420002</td>\n",
       "    </tr>\n",
       "    <tr>\n",
       "      <th>2</th>\n",
       "      <td>1.224850</td>\n",
       "      <td>-3.222340</td>\n",
       "      <td>-55.218102</td>\n",
       "    </tr>\n",
       "    <tr>\n",
       "      <th>3</th>\n",
       "      <td>0.260204</td>\n",
       "      <td>1.062170</td>\n",
       "      <td>-56.206200</td>\n",
       "    </tr>\n",
       "    <tr>\n",
       "      <th>4</th>\n",
       "      <td>0.672830</td>\n",
       "      <td>-1.636390</td>\n",
       "      <td>-56.648102</td>\n",
       "    </tr>\n",
       "    <tr>\n",
       "      <th>...</th>\n",
       "      <td>...</td>\n",
       "      <td>...</td>\n",
       "      <td>...</td>\n",
       "    </tr>\n",
       "    <tr>\n",
       "      <th>231</th>\n",
       "      <td>-8.241010</td>\n",
       "      <td>-4.391170</td>\n",
       "      <td>-61.110901</td>\n",
       "    </tr>\n",
       "    <tr>\n",
       "      <th>232</th>\n",
       "      <td>-7.536050</td>\n",
       "      <td>-2.306660</td>\n",
       "      <td>-56.251503</td>\n",
       "    </tr>\n",
       "    <tr>\n",
       "      <th>233</th>\n",
       "      <td>-4.986330</td>\n",
       "      <td>-3.867570</td>\n",
       "      <td>-54.766998</td>\n",
       "    </tr>\n",
       "    <tr>\n",
       "      <th>234</th>\n",
       "      <td>-8.421440</td>\n",
       "      <td>1.162210</td>\n",
       "      <td>-55.700798</td>\n",
       "    </tr>\n",
       "    <tr>\n",
       "      <th>235</th>\n",
       "      <td>-6.570590</td>\n",
       "      <td>4.858560</td>\n",
       "      <td>-54.600403</td>\n",
       "    </tr>\n",
       "  </tbody>\n",
       "</table>\n",
       "<p>236 rows × 3 columns</p>\n",
       "</div>"
      ],
      "text/plain": [
       "            0         1          2\n",
       "0    2.082230  0.567028 -48.213200\n",
       "1    0.150574 -0.525861 -52.420002\n",
       "2    1.224850 -3.222340 -55.218102\n",
       "3    0.260204  1.062170 -56.206200\n",
       "4    0.672830 -1.636390 -56.648102\n",
       "..        ...       ...        ...\n",
       "231 -8.241010 -4.391170 -61.110901\n",
       "232 -7.536050 -2.306660 -56.251503\n",
       "233 -4.986330 -3.867570 -54.766998\n",
       "234 -8.421440  1.162210 -55.700798\n",
       "235 -6.570590  4.858560 -54.600403\n",
       "\n",
       "[236 rows x 3 columns]"
      ]
     },
     "execution_count": 24,
     "metadata": {},
     "output_type": "execute_result"
    }
   ],
   "source": [
    "df"
   ]
  },
  {
   "cell_type": "code",
   "execution_count": 86,
   "id": "e0f9d267",
   "metadata": {},
   "outputs": [
    {
     "data": {
      "text/plain": [
       "500"
      ]
     },
     "execution_count": 86,
     "metadata": {},
     "output_type": "execute_result"
    }
   ],
   "source": []
  },
  {
   "cell_type": "code",
   "execution_count": 52,
   "id": "624a1b2d",
   "metadata": {},
   "outputs": [
    {
     "ename": "TypeError",
     "evalue": "write() argument must be str, not Trajectory",
     "output_type": "error",
     "traceback": [
      "\u001b[1;31m---------------------------------------------------------------------------\u001b[0m",
      "\u001b[1;31mTypeError\u001b[0m                                 Traceback (most recent call last)",
      "\u001b[1;32m<ipython-input-52-9bdc09eb850c>\u001b[0m in \u001b[0;36m<module>\u001b[1;34m\u001b[0m\n\u001b[1;32m----> 1\u001b[1;33m \u001b[0mfile\u001b[0m\u001b[1;33m.\u001b[0m\u001b[0mwrite\u001b[0m\u001b[1;33m(\u001b[0m\u001b[0mf\u001b[0m\u001b[1;33m)\u001b[0m\u001b[1;33m\u001b[0m\u001b[1;33m\u001b[0m\u001b[0m\n\u001b[0m",
      "\u001b[1;31mTypeError\u001b[0m: write() argument must be str, not Trajectory"
     ]
    }
   ],
   "source": []
  },
  {
   "cell_type": "code",
   "execution_count": null,
   "id": "185808c5",
   "metadata": {},
   "outputs": [],
   "source": []
  }
 ],
 "metadata": {
  "kernelspec": {
   "display_name": "Python 3",
   "language": "python",
   "name": "python3"
  },
  "language_info": {
   "codemirror_mode": {
    "name": "ipython",
    "version": 3
   },
   "file_extension": ".py",
   "mimetype": "text/x-python",
   "name": "python",
   "nbconvert_exporter": "python",
   "pygments_lexer": "ipython3",
   "version": "3.8.8"
  }
 },
 "nbformat": 4,
 "nbformat_minor": 5
}
