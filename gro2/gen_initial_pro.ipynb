{
 "cells": [
  {
   "cell_type": "code",
   "execution_count": 1,
   "id": "0cba772f",
   "metadata": {},
   "outputs": [],
   "source": [
    "import mdtraj as md\n",
    "import numpy as np"
   ]
  },
  {
   "cell_type": "code",
   "execution_count": 2,
   "id": "f57534fe",
   "metadata": {},
   "outputs": [],
   "source": [
    "f = md.load_lammpstrj(\"different/output.lammpstrj\",top = \"different/hola_protein.pdb\")"
   ]
  },
  {
   "cell_type": "code",
   "execution_count": null,
   "id": "e39df1f3",
   "metadata": {},
   "outputs": [],
   "source": []
  },
  {
   "cell_type": "code",
   "execution_count": 3,
   "id": "8eb760c2",
   "metadata": {},
   "outputs": [],
   "source": [
    "for i in range(1601):\n",
    "    f.xyz[i] = f.xyz[i] * 10"
   ]
  },
  {
   "cell_type": "code",
   "execution_count": 4,
   "id": "a99a9efe",
   "metadata": {},
   "outputs": [
    {
     "data": {
      "text/plain": [
       "array([ -8.60837 ,   4.99761 , -58.668198], dtype=float32)"
      ]
     },
     "execution_count": 4,
     "metadata": {},
     "output_type": "execute_result"
    }
   ],
   "source": [
    "f.xyz[68][235]"
   ]
  },
  {
   "cell_type": "code",
   "execution_count": 5,
   "id": "1323fab2",
   "metadata": {},
   "outputs": [],
   "source": [
    "import pandas as pd\n",
    "path = \"different/init_csv/\""
   ]
  },
  {
   "cell_type": "code",
   "execution_count": 6,
   "id": "d8b714a4",
   "metadata": {},
   "outputs": [
    {
     "name": "stdout",
     "output_type": "stream",
     "text": [
      "ooga\n",
      "602\n"
     ]
    }
   ],
   "source": [
    "count = 0\n",
    "for i in range(1600,400,-2):\n",
    "    count = count + 1\n",
    "    df = pd.DataFrame(f.xyz[i][0:236])\n",
    "    df.to_csv(path + 'file' + str(count) +'.csv')\n",
    "    if(count == 500):\n",
    "        print(\"ooga\")\n",
    "        print(i)\n",
    "        break\n",
    "        "
   ]
  },
  {
   "cell_type": "code",
   "execution_count": 7,
   "id": "f084d9e3",
   "metadata": {},
   "outputs": [
    {
     "data": {
      "text/html": [
       "<div>\n",
       "<style scoped>\n",
       "    .dataframe tbody tr th:only-of-type {\n",
       "        vertical-align: middle;\n",
       "    }\n",
       "\n",
       "    .dataframe tbody tr th {\n",
       "        vertical-align: top;\n",
       "    }\n",
       "\n",
       "    .dataframe thead th {\n",
       "        text-align: right;\n",
       "    }\n",
       "</style>\n",
       "<table border=\"1\" class=\"dataframe\">\n",
       "  <thead>\n",
       "    <tr style=\"text-align: right;\">\n",
       "      <th></th>\n",
       "      <th>0</th>\n",
       "      <th>1</th>\n",
       "      <th>2</th>\n",
       "    </tr>\n",
       "  </thead>\n",
       "  <tbody>\n",
       "    <tr>\n",
       "      <th>0</th>\n",
       "      <td>1.255000</td>\n",
       "      <td>-0.027000</td>\n",
       "      <td>-48.818001</td>\n",
       "    </tr>\n",
       "    <tr>\n",
       "      <th>1</th>\n",
       "      <td>0.163319</td>\n",
       "      <td>0.144575</td>\n",
       "      <td>-51.304897</td>\n",
       "    </tr>\n",
       "    <tr>\n",
       "      <th>2</th>\n",
       "      <td>-1.568970</td>\n",
       "      <td>-0.773190</td>\n",
       "      <td>-53.588200</td>\n",
       "    </tr>\n",
       "    <tr>\n",
       "      <th>3</th>\n",
       "      <td>1.574220</td>\n",
       "      <td>2.266800</td>\n",
       "      <td>-54.533401</td>\n",
       "    </tr>\n",
       "    <tr>\n",
       "      <th>4</th>\n",
       "      <td>2.935810</td>\n",
       "      <td>1.184360</td>\n",
       "      <td>-56.664398</td>\n",
       "    </tr>\n",
       "    <tr>\n",
       "      <th>...</th>\n",
       "      <td>...</td>\n",
       "      <td>...</td>\n",
       "      <td>...</td>\n",
       "    </tr>\n",
       "    <tr>\n",
       "      <th>231</th>\n",
       "      <td>-8.718470</td>\n",
       "      <td>-1.002930</td>\n",
       "      <td>-66.086403</td>\n",
       "    </tr>\n",
       "    <tr>\n",
       "      <th>232</th>\n",
       "      <td>-7.397460</td>\n",
       "      <td>0.208159</td>\n",
       "      <td>-61.640800</td>\n",
       "    </tr>\n",
       "    <tr>\n",
       "      <th>233</th>\n",
       "      <td>-7.508350</td>\n",
       "      <td>-1.268760</td>\n",
       "      <td>-59.124100</td>\n",
       "    </tr>\n",
       "    <tr>\n",
       "      <th>234</th>\n",
       "      <td>-7.621130</td>\n",
       "      <td>3.332520</td>\n",
       "      <td>-60.981499</td>\n",
       "    </tr>\n",
       "    <tr>\n",
       "      <th>235</th>\n",
       "      <td>-8.308969</td>\n",
       "      <td>4.696080</td>\n",
       "      <td>-58.303699</td>\n",
       "    </tr>\n",
       "  </tbody>\n",
       "</table>\n",
       "<p>236 rows × 3 columns</p>\n",
       "</div>"
      ],
      "text/plain": [
       "            0         1          2\n",
       "0    1.255000 -0.027000 -48.818001\n",
       "1    0.163319  0.144575 -51.304897\n",
       "2   -1.568970 -0.773190 -53.588200\n",
       "3    1.574220  2.266800 -54.533401\n",
       "4    2.935810  1.184360 -56.664398\n",
       "..        ...       ...        ...\n",
       "231 -8.718470 -1.002930 -66.086403\n",
       "232 -7.397460  0.208159 -61.640800\n",
       "233 -7.508350 -1.268760 -59.124100\n",
       "234 -7.621130  3.332520 -60.981499\n",
       "235 -8.308969  4.696080 -58.303699\n",
       "\n",
       "[236 rows x 3 columns]"
      ]
     },
     "execution_count": 7,
     "metadata": {},
     "output_type": "execute_result"
    }
   ],
   "source": [
    "df"
   ]
  },
  {
   "cell_type": "code",
   "execution_count": null,
   "id": "e0f9d267",
   "metadata": {},
   "outputs": [],
   "source": []
  },
  {
   "cell_type": "code",
   "execution_count": 52,
   "id": "624a1b2d",
   "metadata": {},
   "outputs": [
    {
     "ename": "TypeError",
     "evalue": "write() argument must be str, not Trajectory",
     "output_type": "error",
     "traceback": [
      "\u001b[1;31m---------------------------------------------------------------------------\u001b[0m",
      "\u001b[1;31mTypeError\u001b[0m                                 Traceback (most recent call last)",
      "\u001b[1;32m<ipython-input-52-9bdc09eb850c>\u001b[0m in \u001b[0;36m<module>\u001b[1;34m\u001b[0m\n\u001b[1;32m----> 1\u001b[1;33m \u001b[0mfile\u001b[0m\u001b[1;33m.\u001b[0m\u001b[0mwrite\u001b[0m\u001b[1;33m(\u001b[0m\u001b[0mf\u001b[0m\u001b[1;33m)\u001b[0m\u001b[1;33m\u001b[0m\u001b[1;33m\u001b[0m\u001b[0m\n\u001b[0m",
      "\u001b[1;31mTypeError\u001b[0m: write() argument must be str, not Trajectory"
     ]
    }
   ],
   "source": []
  },
  {
   "cell_type": "code",
   "execution_count": null,
   "id": "185808c5",
   "metadata": {},
   "outputs": [],
   "source": []
  }
 ],
 "metadata": {
  "kernelspec": {
   "display_name": "Python 3",
   "language": "python",
   "name": "python3"
  },
  "language_info": {
   "codemirror_mode": {
    "name": "ipython",
    "version": 3
   },
   "file_extension": ".py",
   "mimetype": "text/x-python",
   "name": "python",
   "nbconvert_exporter": "python",
   "pygments_lexer": "ipython3",
   "version": "3.8.8"
  }
 },
 "nbformat": 4,
 "nbformat_minor": 5
}
